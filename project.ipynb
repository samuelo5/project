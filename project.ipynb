{
 "cells": [
  {
   "cell_type": "code",
   "execution_count": 5,
   "id": "445f7da7-acd7-4d97-9b02-f26db44f12be",
   "metadata": {},
   "outputs": [
    {
     "name": "stdout",
     "output_type": "stream",
     "text": [
      "The sum of the first 100 natural numbers:  5050\n"
     ]
    }
   ],
   "source": [
    "i = 1\n",
    "s = 0\n",
    "\n",
    "while i <= 100:\n",
    "    s += i\n",
    "    i += 1\n",
    "   \n",
    "print(\"The sum of the first 100 natural numbers: \", s)"
   ]
  },
  {
   "cell_type": "code",
   "execution_count": 21,
   "id": "1dae368e-7d79-49bb-97c8-8d1932b209ad",
   "metadata": {},
   "outputs": [
    {
     "name": "stdin",
     "output_type": "stream",
     "text": [
      "Enter a number:  4\n"
     ]
    },
    {
     "name": "stdout",
     "output_type": "stream",
     "text": [
      "The factorial caluclation is:  24\n"
     ]
    }
   ],
   "source": [
    "n = int(input(\"Enter a number: \"))\n",
    "fact = 1\n",
    "\n",
    "for i in range(1, n + 1):\n",
    "    fact = fact * i\n",
    "print(\"The factorial caluclation is: \", fact)"
   ]
  },
  {
   "cell_type": "code",
   "execution_count": 19,
   "id": "c83807b0-096b-4c4e-9828-fc55aaed7d77",
   "metadata": {},
   "outputs": [
    {
     "name": "stdout",
     "output_type": "stream",
     "text": [
      "1\n",
      "1\n",
      "2\n",
      "3\n",
      "5\n",
      "8\n",
      "13\n",
      "21\n",
      "34\n",
      "55\n"
     ]
    }
   ],
   "source": [
    "i = 0\n",
    "a, b = 0, 1\n",
    "while i < 10:\n",
    "    a, b = b, a + b\n",
    "    i += 1\n",
    "    print(a)"
   ]
  },
  {
   "cell_type": "code",
   "execution_count": 44,
   "id": "77f0b733-a6aa-46ee-9255-fcc9629a3bcd",
   "metadata": {},
   "outputs": [
    {
     "name": "stdout",
     "output_type": "stream",
     "text": [
      "Original list:  5\n",
      "Squared list:  [1, 4, 9, 16, 25]\n"
     ]
    }
   ],
   "source": [
    "numbers = [1, 2, 3, 4, 5]\n",
    "sn = []\n",
    "\n",
    "for n in numbers:\n",
    "    sn. append(n ** 2)\n",
    "\n",
    "print(\"Original list: \", n)\n",
    "print(\"Squared list: \", sn)"
   ]
  },
  {
   "cell_type": "code",
   "execution_count": 42,
   "id": "1d4b0143-3660-46e0-9d64-5618c0ace6f7",
   "metadata": {},
   "outputs": [
    {
     "name": "stdin",
     "output_type": "stream",
     "text": [
      "Enter a positive number to sum up to:  -1\n",
      "Enter a positive number to sum up to:  0\n",
      "Enter a positive number to sum up to:  7\n"
     ]
    },
    {
     "name": "stdout",
     "output_type": "stream",
     "text": [
      "Sum of 1 to 7 is 28\n"
     ]
    }
   ],
   "source": [
    "n = -1\n",
    "while n <= 0:\n",
    "    n = int(input(\"Enter a positive number to sum up to: \"))\n",
    "s = 0\n",
    "for i in range(1, n+1):\n",
    "    s = s + i\n",
    "print(\"Sum of 1 to {} is {}\". format(n,s))"
   ]
  },
  {
   "cell_type": "code",
   "execution_count": 45,
   "id": "2ed7307b-62a4-476f-89e0-4d20b063847e",
   "metadata": {},
   "outputs": [
    {
     "name": "stdin",
     "output_type": "stream",
     "text": [
      "Enter a number to sum up to:  -10\n"
     ]
    },
    {
     "name": "stdout",
     "output_type": "stream",
     "text": [
      "Sum of 1 to -10 is 0\n"
     ]
    }
   ],
   "source": [
    "n = int(input(\"Enter a number to sum up to: \"))\n",
    "s = 0\n",
    "for i in range(1, n+1):\n",
    "    s = s + i\n",
    "print(\"Sum of 1 to {} is {}\".format(n,s))"
   ]
  },
  {
   "cell_type": "code",
   "execution_count": 30,
   "id": "00088e1c-6144-46a7-a905-3c8cbf513123",
   "metadata": {},
   "outputs": [
    {
     "name": "stdout",
     "output_type": "stream",
     "text": [
      "('a', 'b', 'c', 1, 2, 3)\n"
     ]
    }
   ],
   "source": [
    "tuple1 = (\"a\", \"b\" , \"c\")\n",
    "tuple2 = (1, 2, 3)\n",
    "\n",
    "tuple3 = tuple1 + tuple2\n",
    "print(tuple3)"
   ]
  },
  {
   "cell_type": "code",
   "execution_count": 33,
   "id": "f2b701ed-682f-4eff-8102-935cb17e8376",
   "metadata": {},
   "outputs": [
    {
     "name": "stdout",
     "output_type": "stream",
     "text": [
      "('a', 'b', 'c', 1, 2, 3)\n"
     ]
    }
   ],
   "source": [
    "tuple1 = (\"a\", \"b\", \"c\")\n",
    "tuple2 = (1, 2, 3)\n",
    "\n",
    "tuple3 = tuple1 + tuple2\n",
    "print(tuple3)"
   ]
  },
  {
   "cell_type": "code",
   "execution_count": 36,
   "id": "f3cd8802-8c15-495b-9e70-aa50f1dc3de7",
   "metadata": {},
   "outputs": [
    {
     "name": "stdout",
     "output_type": "stream",
     "text": [
      "120\n"
     ]
    }
   ],
   "source": [
    "x = 30 * 4\n",
    "print(x)"
   ]
  },
  {
   "cell_type": "code",
   "execution_count": 40,
   "id": "6c33fb5a-f674-4840-b8cd-9802ffc2f88c",
   "metadata": {},
   "outputs": [
    {
     "name": "stdin",
     "output_type": "stream",
     "text": [
      "Enter the x-coordinate:  3\n",
      "Enter the y-coordinate:  -3\n"
     ]
    },
    {
     "name": "stdout",
     "output_type": "stream",
     "text": [
      "4 quadrant\n"
     ]
    }
   ],
   "source": [
    "x = int(input(\"Enter the x-coordinate: \"))\n",
    "y = int(input(\"Enter the y-coordinate: \"))\n",
    "\n",
    "if x < 0 and y > 0:\n",
    "    print(\"1 quadrant\")\n",
    "elif x > 0 and y > 0:\n",
    "    print(\"2 quadrant\")\n",
    "elif x < 0 and y < 0:\n",
    "    print(\"3 quadrant\")\n",
    "elif x > 0 and y < 0:\n",
    "    print(\"4 quadrant\")"
   ]
  },
  {
   "cell_type": "code",
   "execution_count": 35,
   "id": "2e9fc59c-c1ba-4573-a9af-fb3ade7460f4",
   "metadata": {},
   "outputs": [
    {
     "name": "stdout",
     "output_type": "stream",
     "text": [
      "1\n",
      "2\n",
      "3\n",
      "5\n",
      "7\n",
      "11\n",
      "13\n",
      "17\n",
      "19\n",
      "23\n",
      "29\n",
      "31\n",
      "37\n",
      "41\n",
      "43\n",
      "47\n",
      "53\n",
      "59\n",
      "61\n",
      "67\n",
      "71\n",
      "73\n",
      "79\n",
      "83\n",
      "89\n",
      "97\n"
     ]
    }
   ],
   "source": [
    "for i in range(1, 100):\n",
    "    for n in range(2, int(i/2) + 1):\n",
    "        if i % n == 0:\n",
    "            break\n",
    "    else:\n",
    "        print(i)"
   ]
  },
  {
   "cell_type": "code",
   "execution_count": 26,
   "id": "15843d76-288c-4ac5-96f7-af33c3e6c55d",
   "metadata": {},
   "outputs": [
    {
     "name": "stdout",
     "output_type": "stream",
     "text": [
      "10\n",
      "9\n",
      "8\n",
      "7\n",
      "6\n",
      "5\n",
      "4\n",
      "3\n",
      "2\n",
      "1\n",
      "liftoff!\n"
     ]
    }
   ],
   "source": [
    "i = 10\n",
    "\n",
    "while i > 0:\n",
    "    print(i)\n",
    "    i -= 1\n",
    "\n",
    "print(\"liftoff!\")"
   ]
  },
  {
   "cell_type": "code",
   "execution_count": 102,
   "id": "47b4e71a-0079-449a-88b4-749f2a194df6",
   "metadata": {},
   "outputs": [
    {
     "name": "stdout",
     "output_type": "stream",
     "text": [
      "s a i h a M   l e u m a S "
     ]
    }
   ],
   "source": [
    "txt = \"Samuel Mathias\"[::-1]\n",
    "for t in txt:\n",
    "    if t == \"t\": \n",
    "            continue\n",
    "    print(t, end= ' ')"
   ]
  },
  {
   "cell_type": "code",
   "execution_count": null,
   "id": "abbff172-4fa3-4cee-accc-ac101505d467",
   "metadata": {},
   "outputs": [],
   "source": [
    "n = int(input(\"Enter a digit: \"))\n",
    "s = 0\n",
    "while n >= 0:\n",
    "        s += n\n",
    "        n += 1   \n",
    "    print(n)"
   ]
  },
  {
   "cell_type": "code",
   "execution_count": 30,
   "id": "8eff89a7-c827-4758-8ab9-13b8854e13cd",
   "metadata": {},
   "outputs": [
    {
     "name": "stdout",
     "output_type": "stream",
     "text": [
      "50\n",
      "150\n",
      "250\n",
      "350\n",
      "450\n",
      "550\n",
      "650\n",
      "750\n",
      "850\n",
      "950\n"
     ]
    }
   ],
   "source": [
    "for seq in range (50, 1000, 100):\n",
    "    print(seq)"
   ]
  },
  {
   "cell_type": "code",
   "execution_count": 9,
   "id": "979a740c-ba80-40f0-894f-f90deb46a3f9",
   "metadata": {},
   "outputs": [
    {
     "name": "stdin",
     "output_type": "stream",
     "text": [
      "Enter number:  5\n"
     ]
    },
    {
     "name": "stdout",
     "output_type": "stream",
     "text": [
      "1 \n",
      "2 2 \n",
      "3 3 3 \n",
      "4 4 4 4 \n",
      "5 5 5 5 5 \n"
     ]
    }
   ],
   "source": [
    "n = int(input(\"Enter number: \"))\n",
    "for i in range(1, n+1):\n",
    "    for j in range(1, i+1):        \n",
    "        print(i, end=\" \")\n",
    "    print()"
   ]
  },
  {
   "cell_type": "code",
   "execution_count": 54,
   "id": "05570dbc-e2b5-4e46-bf9f-48dc017c4bfc",
   "metadata": {},
   "outputs": [
    {
     "name": "stdout",
     "output_type": "stream",
     "text": [
      "2*1 =  2,  2*2 =  4,  2*3 =  6,  2*4 =  8,  2*5 = 10,  2*6 = 12,  2*7 = 14,  2*8 = 16,  2*9 = 18,  \n",
      "3*1 =  3,  3*2 =  6,  3*3 =  9,  3*4 = 12,  3*5 = 15,  3*6 = 18,  3*7 = 21,  3*8 = 24,  3*9 = 27,  \n",
      "4*1 =  4,  4*2 =  8,  4*3 = 12,  4*4 = 16,  4*5 = 20,  4*6 = 24,  4*7 = 28,  4*8 = 32,  4*9 = 36,  \n",
      "5*1 =  5,  5*2 = 10,  5*3 = 15,  5*4 = 20,  5*5 = 25,  5*6 = 30,  5*7 = 35,  5*8 = 40,  5*9 = 45,  \n",
      "6*1 =  6,  6*2 = 12,  6*3 = 18,  6*4 = 24,  6*5 = 30,  6*6 = 36,  6*7 = 42,  6*8 = 48,  6*9 = 54,  \n",
      "7*1 =  7,  7*2 = 14,  7*3 = 21,  7*4 = 28,  7*5 = 35,  7*6 = 42,  7*7 = 49,  7*8 = 56,  7*9 = 63,  \n",
      "8*1 =  8,  8*2 = 16,  8*3 = 24,  8*4 = 32,  8*5 = 40,  8*6 = 48,  8*7 = 56,  8*8 = 64,  8*9 = 72,  \n",
      "9*1 =  9,  9*2 = 18,  9*3 = 27,  9*4 = 36,  9*5 = 45,  9*6 = 54,  9*7 = 63,  9*8 = 72,  9*9 = 81,  \n",
      "10*1 = 10,  10*2 = 20,  10*3 = 30,  10*4 = 40,  10*5 = 50,  10*6 = 60,  10*7 = 70,  10*8 = 80,  10*9 = 90,  \n",
      "11*1 = 11,  11*2 = 22,  11*3 = 33,  11*4 = 44,  11*5 = 55,  11*6 = 66,  11*7 = 77,  11*8 = 88,  11*9 = 99,  \n",
      "12*1 = 12,  12*2 = 24,  12*3 = 36,  12*4 = 48,  12*5 = 60,  12*6 = 72,  12*7 = 84,  12*8 = 96,  12*9 = 108,  \n",
      "13*1 = 13,  13*2 = 26,  13*3 = 39,  13*4 = 52,  13*5 = 65,  13*6 = 78,  13*7 = 91,  13*8 = 104,  13*9 = 117,  \n",
      "14*1 = 14,  14*2 = 28,  14*3 = 42,  14*4 = 56,  14*5 = 70,  14*6 = 84,  14*7 = 98,  14*8 = 112,  14*9 = 126,  \n",
      "15*1 = 15,  15*2 = 30,  15*3 = 45,  15*4 = 60,  15*5 = 75,  15*6 = 90,  15*7 = 105,  15*8 = 120,  15*9 = 135,  \n",
      "16*1 = 16,  16*2 = 32,  16*3 = 48,  16*4 = 64,  16*5 = 80,  16*6 = 96,  16*7 = 112,  16*8 = 128,  16*9 = 144,  \n",
      "17*1 = 17,  17*2 = 34,  17*3 = 51,  17*4 = 68,  17*5 = 85,  17*6 = 102,  17*7 = 119,  17*8 = 136,  17*9 = 153,  \n",
      "18*1 = 18,  18*2 = 36,  18*3 = 54,  18*4 = 72,  18*5 = 90,  18*6 = 108,  18*7 = 126,  18*8 = 144,  18*9 = 162,  \n",
      "19*1 = 19,  19*2 = 38,  19*3 = 57,  19*4 = 76,  19*5 = 95,  19*6 = 114,  19*7 = 133,  19*8 = 152,  19*9 = 171,  \n"
     ]
    }
   ],
   "source": [
    "for i in range(2, 20):         # outer for the loop\n",
    "     for j in range(1, 10):  # inner the loop\n",
    "        print(\"{}*{} = {:2d}, \".format(i, j, i*j), end = ' ')\n",
    "     print() "
   ]
  },
  {
   "cell_type": "code",
   "execution_count": 62,
   "id": "426c5be5-c798-40a5-8d9e-66fe60f57116",
   "metadata": {},
   "outputs": [
    {
     "name": "stdout",
     "output_type": "stream",
     "text": [
      "1\n",
      "2\n",
      "3\n",
      "4\n",
      "5\n",
      "6\n",
      "7\n",
      "8\n",
      "9\n"
     ]
    }
   ],
   "source": [
    "numbers = [1, 2, 3, 4, 5, 6, 7, 8, 9]\n",
    "\n",
    "for n in numbers:\n",
    "    print(n)"
   ]
  },
  {
   "cell_type": "code",
   "execution_count": 68,
   "id": "5098800d-014b-4608-ac3e-c69574b703fc",
   "metadata": {},
   "outputs": [
    {
     "name": "stdin",
     "output_type": "stream",
     "text": [
      "Please enter a word:  Hello World\n"
     ]
    },
    {
     "name": "stdout",
     "output_type": "stream",
     "text": [
      "dlroW olleH\n"
     ]
    }
   ],
   "source": [
    "user = input(\"Please enter a word: \") \n",
    "reversed_word = user[::-1]\n",
    "\n",
    "print(reversed_word )\n"
   ]
  },
  {
   "cell_type": "code",
   "execution_count": null,
   "id": "173bb252-072e-409b-8047-1d1a853931df",
   "metadata": {},
   "outputs": [],
   "source": []
  },
  {
   "cell_type": "code",
   "execution_count": 85,
   "id": "17590e56-a9a6-4341-9671-b3864b0e0d7b",
   "metadata": {},
   "outputs": [
    {
     "name": "stdout",
     "output_type": "stream",
     "text": [
      "3\n",
      "5\n",
      "7\n",
      "9\n",
      "11\n",
      "13\n",
      "15\n",
      "17\n",
      "19\n",
      "21\n",
      "23\n",
      "25\n",
      "27\n",
      "29\n",
      "31\n",
      "33\n",
      "35\n",
      "37\n",
      "39\n",
      "41\n",
      "43\n",
      "45\n",
      "47\n",
      "49\n",
      "51\n",
      "53\n",
      "55\n",
      "57\n",
      "59\n",
      "61\n",
      "63\n",
      "65\n",
      "67\n",
      "69\n",
      "71\n",
      "73\n",
      "75\n",
      "77\n",
      "79\n",
      "81\n",
      "83\n",
      "85\n",
      "87\n",
      "89\n",
      "91\n",
      "93\n",
      "95\n",
      "97\n",
      "99\n"
     ]
    }
   ],
   "source": [
    "for i in range(1, 100):\n",
    "    for n in (2, int(i/2) + 1):\n",
    "        if i % n == 0:\n",
    "            break\n",
    "    else:\n",
    "        print(i)"
   ]
  },
  {
   "cell_type": "code",
   "execution_count": 74,
   "id": "37b21114-2883-49e4-a65a-9a047bac2a44",
   "metadata": {},
   "outputs": [
    {
     "name": "stdout",
     "output_type": "stream",
     "text": [
      "1\n",
      "1\n",
      "2\n",
      "3\n",
      "5\n",
      "8\n",
      "13\n",
      "21\n",
      "34\n",
      "55\n",
      "89\n",
      "144\n",
      "233\n",
      "377\n",
      "610\n",
      "987\n",
      "1597\n",
      "2584\n",
      "4181\n",
      "6765\n",
      "10946\n",
      "17711\n",
      "28657\n",
      "46368\n",
      "75025\n",
      "121393\n",
      "196418\n",
      "317811\n",
      "514229\n",
      "832040\n",
      "1346269\n",
      "2178309\n",
      "3524578\n",
      "5702887\n",
      "9227465\n",
      "14930352\n",
      "24157817\n",
      "39088169\n",
      "63245986\n",
      "102334155\n",
      "165580141\n",
      "267914296\n",
      "433494437\n",
      "701408733\n",
      "1134903170\n",
      "1836311903\n",
      "2971215073\n",
      "4807526976\n",
      "7778742049\n",
      "12586269025\n"
     ]
    }
   ],
   "source": [
    "i = 0\n",
    "a, b = 0, 1\n",
    "for i in range(1, 51):\n",
    "    a, b = b, a + b\n",
    "    i += 1\n",
    "    print(a,)"
   ]
  },
  {
   "cell_type": "code",
   "execution_count": 24,
   "id": "664b4bbc-0942-474b-a97e-0eecd205164b",
   "metadata": {},
   "outputs": [
    {
     "name": "stdin",
     "output_type": "stream",
     "text": [
      "Enter year:  2024\n",
      "Enter month:  7\n"
     ]
    },
    {
     "name": "stdout",
     "output_type": "stream",
     "text": [
      "     July 2024\n",
      "Mo Tu We Th Fr Sa Su\n",
      " 1  2  3  4  5  6  7\n",
      " 8  9 10 11 12 13 14\n",
      "15 16 17 18 19 20 21\n",
      "22 23 24 25 26 27 28\n",
      "29 30 31\n",
      "\n"
     ]
    }
   ],
   "source": [
    "import calendar\n",
    "\n",
    "year = int(input(\"Enter year: \")) \n",
    "month = int(input(\"Enter month: \"))\n",
    "\n",
    "cal = calendar.month(year, month)\n",
    "\n",
    "print(cal)"
   ]
  },
  {
   "cell_type": "code",
   "execution_count": 31,
   "id": "d41c5c28-f437-43ee-bb9d-5a4b4f6a5b2b",
   "metadata": {},
   "outputs": [
    {
     "name": "stdin",
     "output_type": "stream",
     "text": [
      "Enter year:  2024\n"
     ]
    },
    {
     "name": "stdout",
     "output_type": "stream",
     "text": [
      "                                  2024\n",
      "\n",
      "      January                   February                   March\n",
      "Mo Tu We Th Fr Sa Su      Mo Tu We Th Fr Sa Su      Mo Tu We Th Fr Sa Su\n",
      " 1  2  3  4  5  6  7                1  2  3  4                   1  2  3\n",
      " 8  9 10 11 12 13 14       5  6  7  8  9 10 11       4  5  6  7  8  9 10\n",
      "15 16 17 18 19 20 21      12 13 14 15 16 17 18      11 12 13 14 15 16 17\n",
      "22 23 24 25 26 27 28      19 20 21 22 23 24 25      18 19 20 21 22 23 24\n",
      "29 30 31                  26 27 28 29               25 26 27 28 29 30 31\n",
      "\n",
      "       April                      May                       June\n",
      "Mo Tu We Th Fr Sa Su      Mo Tu We Th Fr Sa Su      Mo Tu We Th Fr Sa Su\n",
      " 1  2  3  4  5  6  7             1  2  3  4  5                      1  2\n",
      " 8  9 10 11 12 13 14       6  7  8  9 10 11 12       3  4  5  6  7  8  9\n",
      "15 16 17 18 19 20 21      13 14 15 16 17 18 19      10 11 12 13 14 15 16\n",
      "22 23 24 25 26 27 28      20 21 22 23 24 25 26      17 18 19 20 21 22 23\n",
      "29 30                     27 28 29 30 31            24 25 26 27 28 29 30\n",
      "\n",
      "        July                     August                  September\n",
      "Mo Tu We Th Fr Sa Su      Mo Tu We Th Fr Sa Su      Mo Tu We Th Fr Sa Su\n",
      " 1  2  3  4  5  6  7                1  2  3  4                         1\n",
      " 8  9 10 11 12 13 14       5  6  7  8  9 10 11       2  3  4  5  6  7  8\n",
      "15 16 17 18 19 20 21      12 13 14 15 16 17 18       9 10 11 12 13 14 15\n",
      "22 23 24 25 26 27 28      19 20 21 22 23 24 25      16 17 18 19 20 21 22\n",
      "29 30 31                  26 27 28 29 30 31         23 24 25 26 27 28 29\n",
      "                                                    30\n",
      "\n",
      "      October                   November                  December\n",
      "Mo Tu We Th Fr Sa Su      Mo Tu We Th Fr Sa Su      Mo Tu We Th Fr Sa Su\n",
      "    1  2  3  4  5  6                   1  2  3                         1\n",
      " 7  8  9 10 11 12 13       4  5  6  7  8  9 10       2  3  4  5  6  7  8\n",
      "14 15 16 17 18 19 20      11 12 13 14 15 16 17       9 10 11 12 13 14 15\n",
      "21 22 23 24 25 26 27      18 19 20 21 22 23 24      16 17 18 19 20 21 22\n",
      "28 29 30 31               25 26 27 28 29 30         23 24 25 26 27 28 29\n",
      "                                                    30 31\n",
      "\n"
     ]
    }
   ],
   "source": [
    "import calendar\n",
    "\n",
    "year = int(input(\"Enter year: \")) \n",
    "\n",
    "cal = calendar.calendar(year)\n",
    "print(cal)"
   ]
  },
  {
   "cell_type": "code",
   "execution_count": 32,
   "id": "9b6c5ef5-25f5-4199-b1be-cf41f98b3efc",
   "metadata": {},
   "outputs": [
    {
     "name": "stdin",
     "output_type": "stream",
     "text": [
      "Enter year:  2024\n"
     ]
    },
    {
     "name": "stdout",
     "output_type": "stream",
     "text": [
      "                                  2024\n",
      "\n",
      "      January                   February                   March\n",
      "Mo Tu We Th Fr Sa Su      Mo Tu We Th Fr Sa Su      Mo Tu We Th Fr Sa Su\n",
      " 1  2  3  4  5  6  7                1  2  3  4                   1  2  3\n",
      " 8  9 10 11 12 13 14       5  6  7  8  9 10 11       4  5  6  7  8  9 10\n",
      "15 16 17 18 19 20 21      12 13 14 15 16 17 18      11 12 13 14 15 16 17\n",
      "22 23 24 25 26 27 28      19 20 21 22 23 24 25      18 19 20 21 22 23 24\n",
      "29 30 31                  26 27 28 29               25 26 27 28 29 30 31\n",
      "\n",
      "       April                      May                       June\n",
      "Mo Tu We Th Fr Sa Su      Mo Tu We Th Fr Sa Su      Mo Tu We Th Fr Sa Su\n",
      " 1  2  3  4  5  6  7             1  2  3  4  5                      1  2\n",
      " 8  9 10 11 12 13 14       6  7  8  9 10 11 12       3  4  5  6  7  8  9\n",
      "15 16 17 18 19 20 21      13 14 15 16 17 18 19      10 11 12 13 14 15 16\n",
      "22 23 24 25 26 27 28      20 21 22 23 24 25 26      17 18 19 20 21 22 23\n",
      "29 30                     27 28 29 30 31            24 25 26 27 28 29 30\n",
      "\n",
      "        July                     August                  September\n",
      "Mo Tu We Th Fr Sa Su      Mo Tu We Th Fr Sa Su      Mo Tu We Th Fr Sa Su\n",
      " 1  2  3  4  5  6  7                1  2  3  4                         1\n",
      " 8  9 10 11 12 13 14       5  6  7  8  9 10 11       2  3  4  5  6  7  8\n",
      "15 16 17 18 19 20 21      12 13 14 15 16 17 18       9 10 11 12 13 14 15\n",
      "22 23 24 25 26 27 28      19 20 21 22 23 24 25      16 17 18 19 20 21 22\n",
      "29 30 31                  26 27 28 29 30 31         23 24 25 26 27 28 29\n",
      "                                                    30\n",
      "\n",
      "      October                   November                  December\n",
      "Mo Tu We Th Fr Sa Su      Mo Tu We Th Fr Sa Su      Mo Tu We Th Fr Sa Su\n",
      "    1  2  3  4  5  6                   1  2  3                         1\n",
      " 7  8  9 10 11 12 13       4  5  6  7  8  9 10       2  3  4  5  6  7  8\n",
      "14 15 16 17 18 19 20      11 12 13 14 15 16 17       9 10 11 12 13 14 15\n",
      "21 22 23 24 25 26 27      18 19 20 21 22 23 24      16 17 18 19 20 21 22\n",
      "28 29 30 31               25 26 27 28 29 30         23 24 25 26 27 28 29\n",
      "                                                    30 31\n",
      "\n"
     ]
    }
   ],
   "source": [
    "import calendar\n",
    "\n",
    "year = int(input(\"Enter year: \")) \n",
    "\n",
    "cal = calendar.TextCalendar()\n",
    "year_calendar = cal.formatyear(year)\n",
    "print(year_calendar)"
   ]
  },
  {
   "cell_type": "code",
   "execution_count": 1,
   "id": "15f9f65d-0b39-4dc4-a908-fa25d20efc40",
   "metadata": {},
   "outputs": [
    {
     "name": "stdout",
     "output_type": "stream",
     "text": [
      "09/05/2024 10:40:50\r"
     ]
    },
    {
     "ename": "KeyboardInterrupt",
     "evalue": "",
     "output_type": "error",
     "traceback": [
      "\u001b[1;31m---------------------------------------------------------------------------\u001b[0m",
      "\u001b[1;31mKeyboardInterrupt\u001b[0m                         Traceback (most recent call last)",
      "Cell \u001b[1;32mIn[1], line 7\u001b[0m\n\u001b[0;32m      5\u001b[0m \u001b[38;5;28mprint\u001b[39m (now\u001b[38;5;241m.\u001b[39mstrftime(\u001b[38;5;124m\"\u001b[39m\u001b[38;5;124m%\u001b[39m\u001b[38;5;124mm/\u001b[39m\u001b[38;5;132;01m%d\u001b[39;00m\u001b[38;5;124m/\u001b[39m\u001b[38;5;124m%\u001b[39m\u001b[38;5;124mY \u001b[39m\u001b[38;5;124m%\u001b[39m\u001b[38;5;124mH:\u001b[39m\u001b[38;5;124m%\u001b[39m\u001b[38;5;124mM:\u001b[39m\u001b[38;5;124m%\u001b[39m\u001b[38;5;124mS\u001b[39m\u001b[38;5;124m\"\u001b[39m), end\u001b[38;5;241m=\u001b[39m\u001b[38;5;124m\"\u001b[39m\u001b[38;5;124m\"\u001b[39m, flush\u001b[38;5;241m=\u001b[39m\u001b[38;5;28;01mTrue\u001b[39;00m),\n\u001b[0;32m      6\u001b[0m \u001b[38;5;28mprint\u001b[39m(\u001b[38;5;124m\"\u001b[39m\u001b[38;5;130;01m\\r\u001b[39;00m\u001b[38;5;124m\"\u001b[39m, end\u001b[38;5;241m=\u001b[39m\u001b[38;5;124m\"\u001b[39m\u001b[38;5;124m\"\u001b[39m, flush\u001b[38;5;241m=\u001b[39m\u001b[38;5;28;01mTrue\u001b[39;00m),\n\u001b[1;32m----> 7\u001b[0m time\u001b[38;5;241m.\u001b[39msleep(\u001b[38;5;241m1\u001b[39m)\n",
      "\u001b[1;31mKeyboardInterrupt\u001b[0m: "
     ]
    }
   ],
   "source": [
    "import time\n",
    "from datetime import datetime\n",
    "while True:   \n",
    "    now = datetime.now()\n",
    "    print (now.strftime(\"%m/%d/%Y %H:%M:%S\"), end=\"\", flush=True),\n",
    "    print(\"\\r\", end=\"\", flush=True),\n",
    "    time.sleep(1)\n"
   ]
  },
  {
   "cell_type": "code",
   "execution_count": 10,
   "id": "7b918631-f8dc-4a09-98cf-83f52524c0dc",
   "metadata": {},
   "outputs": [
    {
     "name": "stdout",
     "output_type": "stream",
     "text": [
      "['apple', 'banana', 'cherry', 'orange']\n"
     ]
    }
   ],
   "source": [
    "thislist = [\"apple\", \"banana\", \"cherry\"]\n",
    "thislist.append(\"orange\")\n",
    "print(thislist)\n"
   ]
  },
  {
   "cell_type": "code",
   "execution_count": 11,
   "id": "f6b9a609-694c-40e9-ac7f-ec8fec457ec1",
   "metadata": {},
   "outputs": [
    {
     "name": "stdout",
     "output_type": "stream",
     "text": [
      "['apple', 'orange', 'banana', 'cherry']\n"
     ]
    }
   ],
   "source": [
    "thislist = [\"apple\", \"banana\", \"cherry\"]\n",
    "thislist.insert(1, \"orange\")\n",
    "print(thislist)"
   ]
  },
  {
   "cell_type": "code",
   "execution_count": 12,
   "id": "700458b8-ca3b-40a3-9a95-10a110dbcabe",
   "metadata": {},
   "outputs": [
    {
     "name": "stdout",
     "output_type": "stream",
     "text": [
      "['apple', 'banana', 'cherry', 'mango', 'pineapple', 'papaya']\n"
     ]
    }
   ],
   "source": [
    "thislist = [\"apple\", \"banana\", \"cherry\"]\n",
    "tropical = [\"mango\", \"pineapple\", \"papaya\"]\n",
    "thislist.extend(tropical)\n",
    "print(thislist)\n"
   ]
  },
  {
   "cell_type": "code",
   "execution_count": 13,
   "id": "a0ad4553-3d7e-4434-9b05-e5b7e82be2ca",
   "metadata": {},
   "outputs": [
    {
     "name": "stdout",
     "output_type": "stream",
     "text": [
      "['apple', 'banana', 'cherry', 'kiwi', 'orange']\n"
     ]
    }
   ],
   "source": [
    "thislist = [\"apple\", \"banana\", \"cherry\"]\n",
    "thistuple = (\"kiwi\", \"orange\")\n",
    "thislist.extend(thistuple)\n",
    "print(thislist)\n"
   ]
  },
  {
   "cell_type": "code",
   "execution_count": 3,
   "id": "58055fc3-79cb-40f0-b517-a85a36777711",
   "metadata": {},
   "outputs": [
    {
     "name": "stdout",
     "output_type": "stream",
     "text": [
      "1\n",
      "2\n",
      "3\n",
      "4\n",
      "5\n"
     ]
    }
   ],
   "source": [
    "i = 1\n",
    "while i < 6:\n",
    "  print(i)\n",
    "  i += 1\n"
   ]
  },
  {
   "cell_type": "code",
   "execution_count": 17,
   "id": "6fabeaa2-c396-413e-840b-b92c13fd0b32",
   "metadata": {},
   "outputs": [
    {
     "name": "stdout",
     "output_type": "stream",
     "text": [
      "1\n",
      "2\n",
      "3\n",
      "4\n",
      "5\n",
      "6\n",
      "7\n",
      "8\n",
      "9\n",
      "10\n"
     ]
    }
   ],
   "source": [
    "s = 0\n",
    "for i in range(1, 11):\n",
    "    print(i)\n",
    "    s += i"
   ]
  },
  {
   "cell_type": "code",
   "execution_count": 14,
   "id": "8a95e8e7-18ef-4c3e-b349-95ae2291545f",
   "metadata": {},
   "outputs": [
    {
     "name": "stdin",
     "output_type": "stream",
     "text": [
      "Enter name:  computer\n"
     ]
    },
    {
     "name": "stdout",
     "output_type": "stream",
     "text": [
      "3\n"
     ]
    }
   ],
   "source": [
    "st = input(\"Enter name: \")\n",
    "vow = 0\n",
    "for ch in st:\n",
    "    if ch in ['a', 'e', 'i', 'o', 'u']:\n",
    "        vow = vow + 1 \n",
    "print(vow)"
   ]
  },
  {
   "cell_type": "code",
   "execution_count": 22,
   "id": "b62c20e6-352f-4f37-9b96-b8e56345e56e",
   "metadata": {},
   "outputs": [
    {
     "name": "stdout",
     "output_type": "stream",
     "text": [
      "1\n",
      "2\n",
      "3\n",
      "5\n",
      "7\n"
     ]
    }
   ],
   "source": [
    "for i in range(1, 10):\n",
    "    for n in range(2, int(i/2) + 1):\n",
    "        if i % n == 0:\n",
    "            break\n",
    "    else:\n",
    "        print(i)"
   ]
  },
  {
   "cell_type": "code",
   "execution_count": 1,
   "id": "a2d76cbf-a004-4203-a32b-a775c217af92",
   "metadata": {},
   "outputs": [
    {
     "data": {
      "text/plain": [
       "['Welcome', 'to', 'python']"
      ]
     },
     "execution_count": 1,
     "metadata": {},
     "output_type": "execute_result"
    }
   ],
   "source": [
    "s = 'Welcome to python'\n",
    "s.split()"
   ]
  },
  {
   "cell_type": "code",
   "execution_count": 2,
   "id": "64fe170f-56b7-4c97-bf31-f4c4ce757331",
   "metadata": {},
   "outputs": [
    {
     "data": {
      "text/plain": [
       "['2021', '8', '15']"
      ]
     },
     "execution_count": 2,
     "metadata": {},
     "output_type": "execute_result"
    }
   ],
   "source": [
    "s = '2021.8.15'\n",
    "s.split('.')"
   ]
  },
  {
   "cell_type": "code",
   "execution_count": 4,
   "id": "d26ddf37-1d8a-4d47-a7c8-bf37f30b827b",
   "metadata": {},
   "outputs": [
    {
     "data": {
      "text/plain": [
       "['Hello', ' world']"
      ]
     },
     "execution_count": 4,
     "metadata": {},
     "output_type": "execute_result"
    }
   ],
   "source": [
    "s = 'Hello, world'\n",
    "s.split(',')"
   ]
  },
  {
   "cell_type": "code",
   "execution_count": 5,
   "id": "2d0434b6-fc38-4e3e-ba89-7ae89cedd9fc",
   "metadata": {},
   "outputs": [
    {
     "data": {
      "text/plain": [
       "['Hello', 'world']"
      ]
     },
     "execution_count": 5,
     "metadata": {},
     "output_type": "execute_result"
    }
   ],
   "source": [
    "s = 'Hello, world'\n",
    "s.split(', ')"
   ]
  },
  {
   "cell_type": "code",
   "execution_count": 6,
   "id": "a12c7bbd-848c-43a6-8b65-d8cab88602c5",
   "metadata": {},
   "outputs": [
    {
     "data": {
      "text/plain": [
       "['Welcome to', ' Python and', ' bla', ' bla  ']"
      ]
     },
     "execution_count": 6,
     "metadata": {},
     "output_type": "execute_result"
    }
   ],
   "source": [
    "s = 'Welcome to, Python and, bla, bla  '\n",
    "s.split(',')"
   ]
  },
  {
   "cell_type": "code",
   "execution_count": 7,
   "id": "0edca22a-f432-49d5-83a8-5f8b4d6bce99",
   "metadata": {},
   "outputs": [
    {
     "data": {
      "text/plain": [
       "['Welcome to', 'Python and', 'bla', 'bla']"
      ]
     },
     "execution_count": 7,
     "metadata": {},
     "output_type": "execute_result"
    }
   ],
   "source": [
    "s = 'Welcome to, Python and, bla, bla  '\n",
    "[x.strip() for x in s.split(',')]"
   ]
  },
  {
   "cell_type": "code",
   "execution_count": 10,
   "id": "586bd767-709f-451a-b137-f8f204761e25",
   "metadata": {},
   "outputs": [
    {
     "data": {
      "text/plain": [
       "['  Hello', 'world  ']"
      ]
     },
     "execution_count": 10,
     "metadata": {},
     "output_type": "execute_result"
    }
   ],
   "source": [
    "s = '  Hello, world  '\n",
    "s.split(', ')"
   ]
  },
  {
   "cell_type": "code",
   "execution_count": 11,
   "id": "7c0bd37a-a377-4dc1-bca5-a3e17079325f",
   "metadata": {},
   "outputs": [
    {
     "data": {
      "text/plain": [
       "'Hello, world  '"
      ]
     },
     "execution_count": 11,
     "metadata": {},
     "output_type": "execute_result"
    }
   ],
   "source": [
    "s.lstrip()"
   ]
  },
  {
   "cell_type": "code",
   "execution_count": 12,
   "id": "1d959f67-ed8a-4614-b49d-563ad7c320a3",
   "metadata": {},
   "outputs": [
    {
     "data": {
      "text/plain": [
       "'  Hello, world'"
      ]
     },
     "execution_count": 12,
     "metadata": {},
     "output_type": "execute_result"
    }
   ],
   "source": [
    "s.rstrip()"
   ]
  },
  {
   "cell_type": "code",
   "execution_count": 14,
   "id": "6f19b176-1721-4d3a-90ee-fb24ce560a5d",
   "metadata": {},
   "outputs": [
    {
     "data": {
      "text/plain": [
       "'this is an example'"
      ]
     },
     "execution_count": 14,
     "metadata": {},
     "output_type": "execute_result"
    }
   ],
   "source": [
    "s = '#####this is an example#####'\n",
    "s.strip('#')"
   ]
  },
  {
   "cell_type": "code",
   "execution_count": 15,
   "id": "35db5593-1f44-4e17-b2ef-a594f3028552",
   "metadata": {},
   "outputs": [
    {
     "data": {
      "text/plain": [
       "'this is an example#####'"
      ]
     },
     "execution_count": 15,
     "metadata": {},
     "output_type": "execute_result"
    }
   ],
   "source": [
    "s = '#####this is an example#####'\n",
    "s.lstrip('#')"
   ]
  },
  {
   "cell_type": "code",
   "execution_count": 16,
   "id": "c2ff5dca-fb27-49a6-a29a-d0703f02801b",
   "metadata": {},
   "outputs": [
    {
     "data": {
      "text/plain": [
       "'#####this is an example'"
      ]
     },
     "execution_count": 16,
     "metadata": {},
     "output_type": "execute_result"
    }
   ],
   "source": [
    "s = '#####this is an example#####'\n",
    "s.rstrip('#')"
   ]
  },
  {
   "cell_type": "code",
   "execution_count": 17,
   "id": "d3351b49-bda8-4b07-bcc2-babbb869f634",
   "metadata": {},
   "outputs": [
    {
     "data": {
      "text/plain": [
       "'apple,grape,banana'"
      ]
     },
     "execution_count": 17,
     "metadata": {},
     "output_type": "execute_result"
    }
   ],
   "source": [
    "','.join(['apple', 'grape', 'banana'])\n"
   ]
  },
  {
   "cell_type": "code",
   "execution_count": 19,
   "id": "d4c4cf60-5b0e-4e5e-9bd3-f51dfe8db8dc",
   "metadata": {},
   "outputs": [
    {
     "data": {
      "text/plain": [
       "'010-1234-5678'"
      ]
     },
     "execution_count": 19,
     "metadata": {},
     "output_type": "execute_result"
    }
   ],
   "source": [
    "'-'.join('010.1234.5678'.split('.'))"
   ]
  },
  {
   "cell_type": "code",
   "execution_count": 20,
   "id": "87cd09e1-5827-42ec-b6ef-0a1cbab94279",
   "metadata": {},
   "outputs": [
    {
     "data": {
      "text/plain": [
       "'applegrapebanana'"
      ]
     },
     "execution_count": 20,
     "metadata": {},
     "output_type": "execute_result"
    }
   ],
   "source": [
    "''.join(['apple', 'grape', 'banana'])"
   ]
  },
  {
   "cell_type": "code",
   "execution_count": 21,
   "id": "1298c031-38e0-401d-ac14-59632105e7c5",
   "metadata": {},
   "outputs": [
    {
     "data": {
      "text/plain": [
       "['H', 'e', 'l', 'l', 'o', ' ', 'w', 'o', 'r', 'l', 'd']"
      ]
     },
     "execution_count": 21,
     "metadata": {},
     "output_type": "execute_result"
    }
   ],
   "source": [
    "s = 'Hello world'\n",
    "clist = list(s)\n",
    "clist"
   ]
  },
  {
   "cell_type": "code",
   "execution_count": 22,
   "id": "3defe96d-67d4-4f97-ab3b-8147aeae955a",
   "metadata": {},
   "outputs": [
    {
     "data": {
      "text/plain": [
       "'Hello world'"
      ]
     },
     "execution_count": 22,
     "metadata": {},
     "output_type": "execute_result"
    }
   ],
   "source": [
    "''.join(clist)"
   ]
  },
  {
   "cell_type": "code",
   "execution_count": 24,
   "id": "dc8d52f3-3d19-4a4b-a3b9-4b3661c456b9",
   "metadata": {},
   "outputs": [
    {
     "data": {
      "text/plain": [
       "'Action \\n\\t speak louder than words'"
      ]
     },
     "execution_count": 24,
     "metadata": {},
     "output_type": "execute_result"
    }
   ],
   "source": [
    "a_string = \"Action \\n\\t speak louder than words\"\n",
    "a_string"
   ]
  },
  {
   "cell_type": "code",
   "execution_count": 25,
   "id": "191bf8c7-91bc-48a3-9a77-707b70018cad",
   "metadata": {},
   "outputs": [
    {
     "name": "stdout",
     "output_type": "stream",
     "text": [
      "Action \n",
      "\t speak louder than words\n"
     ]
    }
   ],
   "source": [
    "print(a_string)"
   ]
  },
  {
   "cell_type": "code",
   "execution_count": 26,
   "id": "1861320e-0ea6-4fb3-9e6f-47b1a5eb98e5",
   "metadata": {},
   "outputs": [
    {
     "data": {
      "text/plain": [
       "['Action', 'speak', 'louder', 'than', 'words']"
      ]
     },
     "execution_count": 26,
     "metadata": {},
     "output_type": "execute_result"
    }
   ],
   "source": [
    "word_list = a_string.split()\n",
    "word_list"
   ]
  },
  {
   "cell_type": "code",
   "execution_count": 27,
   "id": "d0385870-2f7a-4a06-bbdd-766533e5707d",
   "metadata": {},
   "outputs": [
    {
     "name": "stdout",
     "output_type": "stream",
     "text": [
      "Action speak louder than words\n"
     ]
    }
   ],
   "source": [
    "refined_string = \" \".join(word_list)\n",
    "print(refined_string)"
   ]
  },
  {
   "cell_type": "code",
   "execution_count": 28,
   "id": "30902063-92f6-43be-b90a-e08049125a2f",
   "metadata": {},
   "outputs": [
    {
     "data": {
      "text/plain": [
       "'hello world'"
      ]
     },
     "execution_count": 28,
     "metadata": {},
     "output_type": "execute_result"
    }
   ],
   "source": [
    "s = 'hello world'\n",
    "s.lower()"
   ]
  },
  {
   "cell_type": "code",
   "execution_count": 29,
   "id": "5833b946-e184-457c-8fa5-c7ca2167e854",
   "metadata": {},
   "outputs": [
    {
     "data": {
      "text/plain": [
       "'HELLO WORLD'"
      ]
     },
     "execution_count": 29,
     "metadata": {},
     "output_type": "execute_result"
    }
   ],
   "source": [
    "s.upper()"
   ]
  },
  {
   "cell_type": "code",
   "execution_count": 31,
   "id": "41378e02-6f63-4be3-b707-7f1ccc11e402",
   "metadata": {},
   "outputs": [
    {
     "data": {
      "text/plain": [
       "'Hello'"
      ]
     },
     "execution_count": 31,
     "metadata": {},
     "output_type": "execute_result"
    }
   ],
   "source": [
    "s = 'hello'\n",
    "s.capitalize()"
   ]
  },
  {
   "cell_type": "code",
   "execution_count": 32,
   "id": "e1070b0c-bd57-4b59-b202-53cd7c0c7384",
   "metadata": {},
   "outputs": [
    {
     "data": {
      "text/plain": [
       "True"
      ]
     },
     "execution_count": 32,
     "metadata": {},
     "output_type": "execute_result"
    }
   ],
   "source": [
    "s = 'ABCDEFGHIJKLMNOPQRSTWVXYZ'\n",
    "s.endswith('C', 1, 3)"
   ]
  },
  {
   "cell_type": "code",
   "execution_count": 34,
   "id": "ba3c490b-371c-4f4e-a9be-32d9cd7b7ec0",
   "metadata": {},
   "outputs": [
    {
     "data": {
      "text/plain": [
       "True"
      ]
     },
     "execution_count": 34,
     "metadata": {},
     "output_type": "execute_result"
    }
   ],
   "source": [
    "s.startswith('B', 1)"
   ]
  },
  {
   "cell_type": "code",
   "execution_count": 35,
   "id": "69c8a775-04a3-4998-85d7-b671ee66b8b6",
   "metadata": {},
   "outputs": [
    {
     "data": {
      "text/plain": [
       "True"
      ]
     },
     "execution_count": 35,
     "metadata": {},
     "output_type": "execute_result"
    }
   ],
   "source": [
    "s.startswith('A')"
   ]
  },
  {
   "cell_type": "code",
   "execution_count": 36,
   "id": "a904d332-91cf-4a4d-ac60-ff55c8f1ec1e",
   "metadata": {},
   "outputs": [
    {
     "data": {
      "text/plain": [
       "False"
      ]
     },
     "execution_count": 36,
     "metadata": {},
     "output_type": "execute_result"
    }
   ],
   "source": [
    "s.startswith('B', 5)"
   ]
  },
  {
   "cell_type": "code",
   "execution_count": 37,
   "id": "bfd56a92-33d0-4eda-b661-c90478f5e5a4",
   "metadata": {},
   "outputs": [
    {
     "data": {
      "text/plain": [
       "True"
      ]
     },
     "execution_count": 37,
     "metadata": {},
     "output_type": "execute_result"
    }
   ],
   "source": [
    "s.endswith('Z')"
   ]
  },
  {
   "cell_type": "code",
   "execution_count": 38,
   "id": "5171d736-0f6d-4de2-9ea9-90f0e1f76a79",
   "metadata": {},
   "outputs": [
    {
     "data": {
      "text/plain": [
       "False"
      ]
     },
     "execution_count": 38,
     "metadata": {},
     "output_type": "execute_result"
    }
   ],
   "source": [
    "s.endswith('C', 1, 10)"
   ]
  },
  {
   "cell_type": "code",
   "execution_count": 39,
   "id": "bf6823f2-fc0f-4229-b014-ce82bd760585",
   "metadata": {},
   "outputs": [
    {
     "name": "stdout",
     "output_type": "stream",
     "text": [
      "Result:\n",
      "123456789999\n",
      "123456,789,999\n",
      "123456789,999\n",
      "123456789999\n"
     ]
    }
   ],
   "source": [
    "text = '123,456,789,999'\n",
    "\n",
    "replaceALL = text.replace(',', '')\n",
    "replace_t1 = text.replace(',', '', 1)\n",
    "replace_t2 = text.replace(',', '', 2)\n",
    "replace_t3 = text.replace(',', '', 3)\n",
    "\n",
    "print('Result:')\n",
    "print(replaceALL)\n",
    "print(replace_t1)\n",
    "print(replace_t2)\n",
    "print(replace_t3)"
   ]
  },
  {
   "cell_type": "code",
   "execution_count": 50,
   "id": "b2893e8b-4337-4140-a085-de7e3b639638",
   "metadata": {},
   "outputs": [
    {
     "name": "stdout",
     "output_type": "stream",
     "text": [
      "select menu \n",
      "1)checkstock \n",
      "2)warehousing \n",
      "3)release \n",
      "4)exit\n"
     ]
    },
    {
     "name": "stdin",
     "output_type": "stream",
     "text": [
      ":  checkstock\n",
      "Enter item:  Coffee\n"
     ]
    },
    {
     "name": "stdout",
     "output_type": "stream",
     "text": [
      "Stock: 7\n",
      "select menu \n",
      "1)checkstock \n",
      "2)warehousing \n",
      "3)release \n",
      "4)exit\n"
     ]
    },
    {
     "name": "stdin",
     "output_type": "stream",
     "text": [
      ":  release\n",
      "Enter item and quantities:  Milk 1\n"
     ]
    },
    {
     "ename": "TypeError",
     "evalue": "dict.items() takes no arguments (1 given)",
     "output_type": "error",
     "traceback": [
      "\u001b[1;31m---------------------------------------------------------------------------\u001b[0m",
      "\u001b[1;31mTypeError\u001b[0m                                 Traceback (most recent call last)",
      "Cell \u001b[1;32mIn[50], line 10\u001b[0m\n\u001b[0;32m      8\u001b[0m \u001b[38;5;28mprint\u001b[39m(\u001b[38;5;124m\"\u001b[39m\u001b[38;5;124mselect menu \u001b[39m\u001b[38;5;130;01m\\n\u001b[39;00m\u001b[38;5;124m1)checkstock \u001b[39m\u001b[38;5;130;01m\\n\u001b[39;00m\u001b[38;5;124m2)warehousing \u001b[39m\u001b[38;5;130;01m\\n\u001b[39;00m\u001b[38;5;124m3)release \u001b[39m\u001b[38;5;130;01m\\n\u001b[39;00m\u001b[38;5;124m4)exit\u001b[39m\u001b[38;5;124m\"\u001b[39m)\n\u001b[0;32m      9\u001b[0m order \u001b[38;5;241m=\u001b[39m \u001b[38;5;28mstr\u001b[39m(\u001b[38;5;28minput\u001b[39m(\u001b[38;5;124m\"\u001b[39m\u001b[38;5;124m: \u001b[39m\u001b[38;5;124m\"\u001b[39m))\u001b[38;5;241m.\u001b[39mlower()\n\u001b[1;32m---> 10\u001b[0m \u001b[38;5;28;01mfor\u001b[39;00m x, y \u001b[38;5;129;01min\u001b[39;00m item\u001b[38;5;241m.\u001b[39mitems(\u001b[38;5;28minput\u001b[39m(\u001b[38;5;124m\"\u001b[39m\u001b[38;5;124mEnter item and quantities: \u001b[39m\u001b[38;5;124m\"\u001b[39m)):\n\u001b[0;32m     11\u001b[0m     \u001b[38;5;28mprint\u001b[39m(x, y)\n",
      "\u001b[1;31mTypeError\u001b[0m: dict.items() takes no arguments (1 given)"
     ]
    }
   ],
   "source": [
    "item = {\"Coffee\": 7, \"Pen\": 3, \"Paper cup\": 2, \"Milk\": 1, \"Coke\": 4, \"Book\": 5}\n",
    "print(\"select menu \\n1)checkstock \\n2)warehousing \\n3)release \\n4)exit\")\n",
    "order = str(input(\": \")).lower()\n",
    "checkstock = item.get(input(\"Enter item: \"))\n",
    "print(\"Stock:\", x)\n",
    "\n",
    "item = {\"Coffee\": 7, \"Pen\": 3, \"Paper cup\": 2, \"Milk\": 1, \"Coke\": 4, \"Book\": 5}\n",
    "print(\"select menu \\n1)checkstock \\n2)warehousing \\n3)release \\n4)exit\")\n",
    "order = str(input(\": \")).lower()\n",
    "for x, y in item.items(input(\"Enter item and quantities: \")):\n",
    "    print(x, y)"
   ]
  },
  {
   "cell_type": "code",
   "execution_count": null,
   "id": "8bc7ea43-7226-47fe-aba2-49e08d70820a",
   "metadata": {},
   "outputs": [],
   "source": []
  }
 ],
 "metadata": {
  "kernelspec": {
   "display_name": "Python 3 (ipykernel)",
   "language": "python",
   "name": "python3"
  },
  "language_info": {
   "codemirror_mode": {
    "name": "ipython",
    "version": 3
   },
   "file_extension": ".py",
   "mimetype": "text/x-python",
   "name": "python",
   "nbconvert_exporter": "python",
   "pygments_lexer": "ipython3",
   "version": "3.11.7"
  }
 },
 "nbformat": 4,
 "nbformat_minor": 5
}
